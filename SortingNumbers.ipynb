{
 "cells": [
  {
   "cell_type": "code",
   "execution_count": 1,
   "id": "dd612582-9a11-49eb-8761-90544f8412a7",
   "metadata": {},
   "outputs": [
    {
     "name": "stdout",
     "output_type": "stream",
     "text": [
      "Input 5 numbers to sort in ascending order:\n"
     ]
    },
    {
     "name": "stdin",
     "output_type": "stream",
     "text": [
      " 4\n",
      " 7\n",
      " 6\n",
      " 10\n",
      " 5\n"
     ]
    },
    {
     "name": "stdout",
     "output_type": "stream",
     "text": [
      "[4, 5, 6, 7, 10]\n"
     ]
    }
   ],
   "source": [
    "print('Input 5 numbers to sort in ascending order:')\n",
    "a = input()\n",
    "b = input()\n",
    "c = input()\n",
    "d = input()\n",
    "e = input()\n",
    "a1 = int(a)\n",
    "b1 = int(b)\n",
    "c1 = int(c)\n",
    "d1 = int(d)\n",
    "e1 = int(e)\n",
    "n = 0\n",
    "ListofNumbers=[a1,b1,c1,d1,e1]\n",
    "for i in range(n,len(ListofNumbers)):\n",
    "    n = n + 1\n",
    "    for j in range(n,len(ListofNumbers)):\n",
    "        if ListofNumbers[i]>ListofNumbers[j]:\n",
    "            Num = ListofNumbers[i]\n",
    "            ListofNumbers[i] = ListofNumbers[j]\n",
    "            ListofNumbers[j] = Num\n",
    "print(ListofNumbers)\n"
   ]
  },
  {
   "cell_type": "code",
   "execution_count": null,
   "id": "1537fdcd-f15b-4e29-b84c-b788f7df282f",
   "metadata": {},
   "outputs": [],
   "source": []
  }
 ],
 "metadata": {
  "kernelspec": {
   "display_name": "Python 3 (ipykernel)",
   "language": "python",
   "name": "python3"
  },
  "language_info": {
   "codemirror_mode": {
    "name": "ipython",
    "version": 3
   },
   "file_extension": ".py",
   "mimetype": "text/x-python",
   "name": "python",
   "nbconvert_exporter": "python",
   "pygments_lexer": "ipython3",
   "version": "3.10.6"
  }
 },
 "nbformat": 4,
 "nbformat_minor": 5
}
